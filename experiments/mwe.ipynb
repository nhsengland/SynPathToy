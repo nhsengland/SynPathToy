{
 "cells": [
  {
   "cell_type": "markdown",
   "id": "c0ea296a",
   "metadata": {},
   "source": [
    "# MWE - Optimized Healthcare Simulation with Q-Learning\n",
    "This notebook simulates a constrained healthcare system with patient flow across disease pathways, clinical interventions, and system-level optimization using Q-learning."
   ]
  },
  {
   "cell_type": "markdown",
   "id": "71acf6a3",
   "metadata": {},
   "source": [
    "## Imports"
   ]
  },
  {
   "cell_type": "code",
   "execution_count": 16,
   "id": "66ef61c1",
   "metadata": {},
   "outputs": [],
   "source": [
    "# Step 1: Imports and Initial Setup\n",
    "import numpy as np\n",
    "import pandas as pd\n",
    "import random\n",
    "\n",
    "# Data manipulation and analysis\n",
    "from collections import defaultdict\n",
    "import heapq\n",
    "\n",
    "# Visualization libraries\n",
    "import matplotlib.pyplot as plt\n",
    "import seaborn as sns\n",
    "import plotly.graph_objects as go #Sankey diagram\n",
    "\n",
    "# Set random seed for reproducibility if required\n",
    "np.random.seed(0)\n",
    "random.seed(0)"
   ]
  },
  {
   "cell_type": "markdown",
   "id": "4cfc1e03",
   "metadata": {},
   "source": [
    "# Step 1 Define Classes"
   ]
  },
  {
   "cell_type": "markdown",
   "id": "57fd97b2",
   "metadata": {},
   "source": [
    "## Patient Class\n",
    "- __ init __\n",
    "- progress disease\n",
    "- clinical_dec\n",
    "- apply_action\n",
    "- score_outcome"
   ]
  },
  {
   "cell_type": "code",
   "execution_count": 17,
   "id": "021cced4",
   "metadata": {},
   "outputs": [],
   "source": [
    "# Step 2: Define Patient Class with Time-Dependent Variables\n",
    "class Patient:\n",
    "    \"\"\"\n",
    "    Represents a patient in the healthcare simulation.\n",
    "\n",
    "    Attributes:\n",
    "        pid (int): Unique identifier for the patient.\n",
    "        age (int): Age of the patient.\n",
    "        sex (str): Gender of the patient ('M' or 'F').\n",
    "        diseases (dict): Dictionary indicating the presence of diseases across pathways.\n",
    "        clinical (dict): Clinical variables and their current values.\n",
    "        outcomes (dict): Metrics for queue and clinical penalties.\n",
    "        history (list): List of actions the patient has undergone.\n",
    "        queue_time (int): Total time the patient has spent in queues.\n",
    "    \"\"\"\n",
    "    \n",
    "    def __init__(self, pid):\n",
    "    \n",
    "        self.pid = pid\n",
    "        self.age = np.random.randint(18, 90)\n",
    "        if 18 <= self.age < 45:\n",
    "            self.age_group = 'young'\n",
    "        elif 45 <= self.age <= 65:\n",
    "            self.age_group = 'middle'\n",
    "        else:\n",
    "            self.age_group = 'elderly'\n",
    "        self.sex = np.random.choice(['M', 'F'])\n",
    "        self.diseases = {f'P{p}': False for p in range(NUM_PATHWAYS)}\n",
    "        self.comorbidities = 0\n",
    "        self.clinical = {k: np.random.normal(v, 0.4*v) for k, v in IDEAL_CLINICAL_VALUES.items()}\n",
    "        self.sickness = 0\n",
    "        self.outcomes = {'queue_penalty': 1000000, 'clinical_penalty': 100}\n",
    "        self.history = []\n",
    "        self.queue_time = 0\n",
    "            \n",
    "    # --- Patient disease occurrence ---\n",
    "    @staticmethod\n",
    "    def progress_diseases(patient, pathway):\n",
    "        \"\"\"\n",
    "        Simulates disease occurrence for a patient in a given pathway.\n",
    "\n",
    "        This method performs two main functions:\n",
    "        1. Disease Occurrence: With a fixed probability, the patient may acquire a new disease in the specified pathway.\n",
    "        If disease occurs, the patient's disease status for the pathway is set to True, an initial action is assigned,\n",
    "        and the action is recorded in the patient's history.\n",
    "\n",
    "        Args:\n",
    "            patient (Patient): The patient object whose state is being updated.\n",
    "            pathway (str): The pathway code (e.g., 'P0', 'P1', etc.) to check for disease progression.\n",
    "        \"\"\"\n",
    "\n",
    "        if patient.diseases[pathway] == False and np.random.rand() < PROBABILITY_OF_DISEASE:\n",
    "            patient.diseases[pathway] = True\n",
    "            start_action = random.choice(input_actions)\n",
    "            actions[start_action].assign(patient)\n",
    "            patient.history.append((start_action,pathway))   \n",
    "        patient.comorbidities = sum(patient.diseases.values())\n",
    "            \n",
    "    # --- Patient clinical variable updates ---\n",
    "    @staticmethod\n",
    "    def clinical_decay(patient):\n",
    "        \"\"\"\n",
    "        Simulates the natural decay of clinical variables over time.\n",
    "        This method reduces each clinical variable by a small amount, simulating the natural decline in health metrics.\n",
    "        Args:\n",
    "            patient (Patient): The patient object whose clinical variables are being updated.\n",
    "        \"\"\"\n",
    "        for k in patient.clinical:\n",
    "            ideal = IDEAL_CLINICAL_VALUES[k]\n",
    "            current = patient.clinical[k]\n",
    "            # Determine direction away from ideal\n",
    "            if current >= ideal:\n",
    "                patient.clinical[k] += abs(np.random.normal(0.5, 0.1)) # Move further above ideal\n",
    "            else:\n",
    "                patient.clinical[k] -= abs(np.random.normal(0.5, 0.1)) # Move further below ideal\n",
    "        \n",
    "        # Ensure clinical variables remain within a reasonable range\n",
    "        for k in patient.clinical:\n",
    "            patient.clinical[k] = max(0.4*IDEAL_CLINICAL_VALUES[k], min(patient.clinical[k], IDEAL_CLINICAL_VALUES[k]*1.6))\n",
    "        \n",
    "    # --- Patient actions and outcomes ---\n",
    "    def apply_action(self, effect):\n",
    "        \"\"\"\n",
    "        Applies the effects of an action to the patient's clinical variables.\n",
    "        \n",
    "        Args:\n",
    "            effect (dict): Dictionary of clinical variable changes.\n",
    "        \"\"\"\n",
    "        for k, v in effect.items():\n",
    "            if k in self.clinical:\n",
    "                if self.clinical[k] < IDEAL_CLINICAL_VALUES[k]:\n",
    "                    self.clinical[k] = self.clinical[k] + v\n",
    "                else:\n",
    "                    self.clinical[k] = self.clinical[k] - v\n",
    "\n",
    "    # --- Patient scoring and outcome calculation ---\n",
    "    def score_outcomes(self):\n",
    "        \"\"\"\n",
    "        Updates the patient's outcome metrics based on their current state. \n",
    "        The queue penalty is reduced based on the time spent in the queue, and the clinical penalty is calculated based on the clinical variables vs user set ideal clinical variables.\n",
    "        \"\"\"\n",
    "        \n",
    "        self.outcomes['queue_penalty'] = max(0, self.outcomes['queue_penalty'] - self.queue_time)\n",
    "        self.outcomes['clinical_penalty'] = sum(\n",
    "        abs(self.clinical[k] - IDEAL_CLINICAL_VALUES[k]) for k in self.clinical if k in IDEAL_CLINICAL_VALUES)\n",
    "        if 0 <= self.outcomes['clinical_penalty'] < 110:\n",
    "            self.sickness = 0\n",
    "        elif 110 <= self.outcomes['clinical_penalty'] <= 160:\n",
    "            self.sickness = 1\n",
    "        else:\n",
    "            self.sickness = 2\n",
    "    "
   ]
  },
  {
   "cell_type": "markdown",
   "id": "2fdccfa8",
   "metadata": {},
   "source": [
    "## Action Class\n",
    "- __ init __\n",
    "- assign\n",
    "- update_log\n",
    "- execute\n",
    "- handle_output_action"
   ]
  },
  {
   "cell_type": "code",
   "execution_count": 18,
   "id": "5d57b961",
   "metadata": {},
   "outputs": [],
   "source": [
    "# Step 3: Define Actions\n",
    "class Action:\n",
    "    \"\"\"\n",
    "    Represents an action or intervention in the healthcare simulation.\n",
    "\n",
    "    Attributes:\n",
    "        name (str): The name of the action.\n",
    "        base_capacity (int): Starting value.\n",
    "        capacity (int): The maximum number of patients the action can handle at a time.\n",
    "        effect (dict): A dictionary specifying the effect of the action on clinical variables.\n",
    "        cost (int): The cost associated with performing the action.\n",
    "        duration (int): The duration of the action in time steps.\n",
    "        queue (list): A priority queue of patients waiting for the action.\n",
    "        schedule (list): A record of the number of patients served at each time step.\n",
    "    \"\"\"\n",
    "    \n",
    "    def __init__(self, name, base_capacity, effect, cost, duration):\n",
    "        self.name = name\n",
    "        self.base_capacity = base_capacity\n",
    "        self.capacity = base_capacity\n",
    "        self.effect = effect\n",
    "        self.cost = cost\n",
    "        self.duration = duration\n",
    "        self.queue = []  # Use a priority queue\n",
    "        self.in_progress = []  # List of (patient, remaining_time)\n",
    "        self.schedule = []\n",
    "        \n",
    "    def update_capacity(self, step):\n",
    "        # Example: capacity reduced by 30% on weekends\n",
    "        \n",
    "        if step % 7 in [5, 6]:\n",
    "            self.capacity = int(self.base_capacity * 0.7)\n",
    "        # Example: random 10–20% fluctuation\n",
    "        fluctuation = np.random.uniform(0.8, 1.2)\n",
    "        self.capacity = int(self.base_capacity * fluctuation)\n",
    "\n",
    "    def assign(self, patient):\n",
    "        \"\"\"\n",
    "        Assigns a patient to the action's queue based on their priority.\n",
    "        - Patients with lower clinical_penalty (worse clinical outcome) and lower queue_penalty (longer wait) get a lower priority_score.\n",
    "        - Since heapq is a min-heap, patients with the lowest priority_score are popped first and served earlier.\n",
    "        - This ensures that sicker patients and those who have waited longer are prioritized in the queue.\n",
    "        \"\"\"\n",
    "        # Combine priority level and outcomes score for sorting\n",
    "        priority_score = patient.outcomes['clinical_penalty'] + 0.005*patient.outcomes['queue_penalty']\n",
    "        heapq.heappush(self.queue, (priority_score, patient.pid, patient))\n",
    "        \n",
    "    \n",
    "    def update_log(self, patient, pathway, current_action):\n",
    "        \n",
    "        # Determine previous action from patient history\n",
    "        prev_action = pw.get_last_action_on_pathway(patient)\n",
    "        \n",
    "        activity_log.append({\n",
    "            \"pathway_code\": pathway.name,\n",
    "            \"pathway_flag\": patient.diseases[pathway.name],\n",
    "            \"patient_id\": patient.pid,\n",
    "            \"simulation_time\": step,\n",
    "            \"previous_action\": prev_action,\n",
    "            \"action_name\": current_action,\n",
    "            \"next_action\": self.name\n",
    "            \n",
    "        })\n",
    "\n",
    "    \n",
    "    def execute(self):\n",
    "        \"\"\"\n",
    "        Processes patients assigned to this action for the current simulation step.\n",
    "\n",
    "        - Updates the status of patients currently in progress, moving those who have completed the action to a finished list.\n",
    "        - Moves patients from the queue to in-progress if there is available capacity, applies the action's clinical effects, and updates their outcomes.\n",
    "        - Tracks the number of patients served at this step in the schedule.\n",
    "        - Returns a tuple containing:\n",
    "            - finished_patients: List of patients who have completed this action during this step.\n",
    "            - cost: Total cost incurred by the action for this step (number of finished patients multiplied by the action's cost).\n",
    "        \"\"\"\n",
    "        \n",
    "        # Update in-progress patients\n",
    "        finished_patients = []\n",
    "        new_in_progress = []\n",
    "        for patient, remaining_time in self.in_progress:\n",
    "            if remaining_time > 1:\n",
    "                new_in_progress.append((patient, remaining_time - 1))\n",
    "            else:\n",
    "                finished_patients.append(patient)\n",
    "        self.in_progress = new_in_progress\n",
    "\n",
    "        # Move patients from queue to in-progress if capacity allows\n",
    "        available_slots = self.capacity - len(self.in_progress)\n",
    "        for _ in range(available_slots):\n",
    "            if self.queue:\n",
    "                _, _, patient = heapq.heappop(self.queue)\n",
    "                patient.queue_time += 1  # Still count as queue time until assigned?\n",
    "                patient.apply_action(self.effect)\n",
    "                patient.score_outcomes()\n",
    "                self.in_progress.append((patient, self.duration))\n",
    "        self.schedule.append(len(self.in_progress))\n",
    "\n",
    "        # Return finished patients and cost\n",
    "        return finished_patients, len(finished_patients) * self.cost\n",
    "    \n",
    "    def handle_output_action(patient, pathway, next_action):\n",
    "        \"\"\"\n",
    "        Handles the logic when a patient reaches an output action in a pathway.\n",
    "\n",
    "        This method sets the disease status for the specified pathway to False, indicating\n",
    "        that the patient has completed the pathway or exited the system. It also allows for\n",
    "        any additional cleanup or transition logic when a patient reaches an output action.\n",
    "\n",
    "        Args:\n",
    "            patient (Patient): The patient object being processed.\n",
    "            pathway_code (str): The code of the pathway being updated.\n",
    "            next_action (str): The name of the output action (typically the final action in the pathway).\n",
    "        \"\"\"\n",
    "        # Set disease to False for this pathway\n",
    "        if pathway.name in patient.diseases:\n",
    "            patient.diseases[pathway.name] = False\n",
    "            next_action = None\n",
    "            \n",
    "    def reset(self):\n",
    "        self.queue = []\n",
    "        self.in_progress = []\n",
    "        self.schedule = []\n",
    "    \n",
    "    "
   ]
  },
  {
   "cell_type": "markdown",
   "id": "a7c5cdf8",
   "metadata": {},
   "source": [
    "## Pathway Class\n",
    "- __ init __\n",
    "- next_action\n",
    "- generate_transition_matrix\n",
    "- get_last_action_on_pathway\n",
    "- get_current_action_on_pathway"
   ]
  },
  {
   "cell_type": "code",
   "execution_count": 19,
   "id": "1635e156",
   "metadata": {},
   "outputs": [],
   "source": [
    "# Step 4: Define Pathways\n",
    "class Pathway:\n",
    "    \"\"\"\n",
    "    Represents a healthcare pathway with transitions and thresholds.\n",
    "\n",
    "    Attributes:\n",
    "        name (str): The name of the pathway.\n",
    "        transitions (dict): A dictionary defining possible transitions between actions.\n",
    "        thresholds (dict): A dictionary defining thresholds for transitions based on clinical variables.\n",
    "    \"\"\"\n",
    "    \n",
    "    def __init__(self, name, transitions, thresholds):\n",
    "        self.name = name\n",
    "        self.transitions = transitions\n",
    "        self.thresholds = thresholds\n",
    "    \n",
    "    def next_action(self, patient, q_table, epsilon):\n",
    "        \"\"\"\n",
    "        Determines and assigns the next action for a patient within this pathway using an epsilon-greedy Q-learning policy.\n",
    "\n",
    "        This method:\n",
    "            - Identifies the patient's current action on the pathway.\n",
    "            - Retrieves valid next actions based on the pathway's transition matrix.\n",
    "            - Selects the next action using an epsilon-greedy strategy:\n",
    "                * With probability `epsilon`, selects a random valid action (exploration).\n",
    "                * Otherwise, selects the action with the highest Q-value for the current state (exploitation).\n",
    "            - Assigns the patient to the chosen action and updates the activity log and patient history.\n",
    "\n",
    "        Args:\n",
    "            patient (Patient): The patient object whose next action is being determined.\n",
    "            q_table (defaultdict): The Q-table mapping states to action values for Q-learning.\n",
    "            epsilon (float): The probability of choosing a random action (exploration rate).\n",
    "            major_step (int): The current major step or episode in the simulation.\n",
    "\n",
    "        Returns:\n",
    "            tuple or None:\n",
    "                - (next_action, q_state): The chosen next action (str) and the Q-learning state tuple.\n",
    "                - None if no valid next action is available or the patient is not active on this pathway.\n",
    "        \"\"\"  \n",
    "        current_action = self.get_current_action_on_pathway(patient)\n",
    "        if current_action is None or self.name not in patient.diseases or not patient.diseases[self.name]:\n",
    "            return None\n",
    "\n",
    "        valid_actions = []\n",
    "        if self.name in self.transitions and current_action in self.transitions[self.name]:\n",
    "            valid_actions = self.transitions[self.name][current_action]\n",
    "        if not valid_actions:\n",
    "            return None\n",
    "        \n",
    "        q_state = (self.name, current_action)\n",
    "             \n",
    "        if np.random.rand() < epsilon:  # Epsilon-greedy action selection\n",
    "            next_a = random.choice(valid_actions)\n",
    "        else:\n",
    "            q_vals = {a: q_table[q_state][a] for a in valid_actions}\n",
    "            max_q = max(q_vals.values())\n",
    "            best_actions = [a for a, q in q_vals.items() if q == max_q]\n",
    "            next_a = random.choice(best_actions)\n",
    "\n",
    "        # Assign patient to the chosen action and update log/history\n",
    "        actions[next_a].assign(patient)\n",
    "        actions[next_a].update_log(patient, self, current_action)\n",
    "        patient.history.append((next_a, self.name))\n",
    "        return next_a, q_state\n",
    "    \n",
    "    @staticmethod\n",
    "    def generate_transition_matrix(num_pathways, num_actions, input_actions=None, output_actions=None, intermediate_actions=None):\n",
    "        \"\"\"\n",
    "        Generates a transition matrix for healthcare pathways.\n",
    "\n",
    "        Args:\n",
    "            num_pathways (int): Number of distinct pathways to generate.\n",
    "            num_actions (int): Number of actions available in each pathway.\n",
    "            input_actions (list, optional): List of action names considered as input actions (entry points).\n",
    "            output_actions (list or str, optional): List or single action name(s) considered as output actions (exit points).\n",
    "            intermediate_actions (list, optional): List of action names considered as intermediate actions.\n",
    "\n",
    "        Returns:\n",
    "            dict: A nested dictionary where each key is a pathway name (e.g., 'P0'), and each value is a dictionary mapping\n",
    "                action names to lists of possible next actions. Output actions have empty lists as next actions.\n",
    "        \"\"\"\n",
    "        transition_matrix = {}\n",
    "        for p in range(num_pathways):\n",
    "            pathway = f'P{p}'\n",
    "            actions_list = [f'a{i}' for i in range(num_actions)]\n",
    "            transitions = {}\n",
    "            for action in actions_list:\n",
    "                if action in output_actions:\n",
    "                    next_action = []  # Output action has no next actions\n",
    "                elif action in input_actions:\n",
    "                    next_action = random.sample(actions_list, random.randint(1, NUM_ACTIONS)) #random combinations\n",
    "                else:\n",
    "                    actions_list_no_input = [a for a in actions_list if a not in input_actions]\n",
    "                    next_action = random.sample(actions_list_no_input, random.randint(1, NUM_ACTIONS-len(input_actions))) #random combinations but no input actions\n",
    "                transitions[action] = next_action\n",
    "            transition_matrix[pathway] = transitions                \n",
    "        return transition_matrix\n",
    "    \n",
    "    def get_last_action_on_pathway(self, patient):\n",
    "        \"\"\"\n",
    "        Returns the last action taken by the patient on the specified pathway.\n",
    "        If no such action exists, returns None.\n",
    "        \"\"\"\n",
    "        found_current = False\n",
    "        for action, pw in reversed(patient.history):\n",
    "            if pw == self.name:\n",
    "                if found_current:\n",
    "                    return action\n",
    "                found_current = True\n",
    "        return None\n",
    "\n",
    "    def get_current_action_on_pathway(self, patient):\n",
    "        \"\"\"\n",
    "        Returns the most recent (current) action taken by the patient on the specified pathway.\n",
    "        If no such action exists, returns None.\n",
    "        \"\"\"\n",
    "        for action, pw in reversed(patient.history):\n",
    "            if pw == self.name:\n",
    "                return action\n",
    "        return None\n",
    "    \n",
    "    def reset(self):\n",
    "        \"\"\"\n",
    "        Resets the pathway's state, clearing any history or progress.\n",
    "        This is useful for starting a new simulation or resetting the pathway.\n",
    "        \"\"\"\n",
    "        self.transitions = {}\n",
    "        self.thresholds = {}\n"
   ]
  },
  {
   "cell_type": "markdown",
   "id": "0d44404c",
   "metadata": {},
   "source": [
    "# Step 2: Build the System"
   ]
  },
  {
   "cell_type": "code",
   "execution_count": 20,
   "id": "7bcab37c",
   "metadata": {},
   "outputs": [],
   "source": [
    "# Step 5: Simulate System\n",
    "\"\"\" \n",
    "This step initializes the simulation by creating a list of patients and defining actions with their respective capacities, effects, costs, and durations.\n",
    "It also sets up pathways with transition thresholds based on clinical variables.\n",
    "The resulting `actions` dictionary contains 10 `Action` objects, each with unique configurations based on the value of `i`.\n",
    "The thresholds dictionary defines the conditions under which patients can transition from one action to another, based on their clinical variables.\n",
    "The pathways list contains 10 `Pathway` objects, each with its own set of transitions and thresholds.\n",
    "\"\"\"\n",
    "def initialize_patients(NUM_PATIENTS=100):\n",
    "    patients = [Patient(i) for i in range(NUM_PATIENTS)]\n",
    "    return patients\n",
    "\n",
    "def initialize_simulation(NUM_PATIENTS=100, NUM_PATHWAYS=10, NUM_ACTIONS=10, BASE_CAPACITY=5, IDEAL_CLINICAL_VALUES=None, PROBABILITY_OF_DISEASE=0.1, input_actions='a0', output_actions='a9'): \n",
    "    actions = {\n",
    "        f'a{i}': Action(\n",
    "            f'a{i}', \n",
    "            base_capacity=BASE_CAPACITY,\n",
    "            effect = {k: (np.random.normal(2,0.05) if j == i % 5 else 0) for j, k in enumerate(IDEAL_CLINICAL_VALUES.keys())},\n",
    "            cost=np.random.randint(20, 100), \n",
    "            duration=np.random.randint(1, 3)        #removes_disease=random.rand() < 0.1\n",
    "        )\n",
    "        for i in range(NUM_ACTIONS)\n",
    "    }\n",
    "\n",
    "    intermediate_actions = [a for a in actions if a not in input_actions + [output_actions]]\n",
    "\n",
    "    threshold_matrix = {\n",
    "        f'P{p}': {\n",
    "            f'a{i}': {\n",
    "                **{k: np.random.normal(v, 5) for k, v in IDEAL_CLINICAL_VALUES.items()},\n",
    "                'age': np.random.randint(18, 65),\n",
    "                'rand_factor': np.random.uniform(0.2, 0.8)\n",
    "            }\n",
    "            for i in range(NUM_ACTIONS)\n",
    "        }\n",
    "        for p in range(NUM_PATHWAYS)\n",
    "    }\n",
    "\n",
    "    transition_matrix = Pathway.generate_transition_matrix(\n",
    "        NUM_PATHWAYS, NUM_ACTIONS, input_actions, output_actions, intermediate_actions\n",
    "    )\n",
    "\n",
    "    pathways = [Pathway(f'P{i}', transition_matrix, threshold_matrix) for i in range(NUM_PATHWAYS)]\n",
    "    \n",
    "    return actions, pathways, threshold_matrix, transition_matrix"
   ]
  },
  {
   "cell_type": "markdown",
   "id": "7acabcaf",
   "metadata": {},
   "source": [
    "# Step 4: Run the Simulation"
   ]
  },
  {
   "cell_type": "code",
   "execution_count": 21,
   "id": "8fed87b4",
   "metadata": {},
   "outputs": [],
   "source": [
    "# Step 6: Run Simulation with Queues\n",
    "\"\"\"\n",
    "This step simulates the flow of patients through the healthcare system. The simulation tracks the clinical variables of each patient, \n",
    "determines their next actions based on predefined pathways, and executes those actions while calculating the associated costs.\n",
    "\n",
    "1. A loop runs for `NUM_STEPS`, representing each time step in the simulation.\n",
    "2. The `progress_disease()` method is called to simulate the natural decline in their clinical variables over time and occurence of diseases.\n",
    "3. For each patient and each pathway in the `pathways` list:\n",
    "    - The `next_action()` method is called to determine the next action for the patient based on their clinical variables and the pathway's thresholds.\n",
    "    - If a valid next action is identified and exists in the `actions` dictionary, the patient is assigned to the action's queue, and the action is added to the patient's history.\n",
    "4. For each action in the `actions` dictionary:\n",
    "    - The `execute()` method is called to process patients in the action's queue, apply the action's effects, and calculate the cost incurred.\n",
    "    - The cost for the action is added to the `step_cost`.\n",
    "5. The total cost for the current time step (`step_cost`) is appended to the `system_cost` list.\n",
    "\n",
    "\"\"\"\n",
    "\n",
    "# Q-learning parameters\n",
    "alpha = 0.1  # Learning rate\n",
    "gamma = 0.9  # Discount factor\n",
    "epsilon = 0.1  # Exploration rate\n",
    "\n",
    "NUM_PATIENTS = 2\n",
    "NUM_PATHWAYS = 3\n",
    "NUM_ACTIONS = 10\n",
    "NUM_STEPS = 30\n",
    "BASE_CAPACITY = 2\n",
    "PROBABILITY_OF_DISEASE = 0.15\n",
    "\n",
    "# --- Ideal clinical values ---\n",
    "IDEAL_CLINICAL_VALUES = {\n",
    "    'bp': 120,\n",
    "    'glucose': 90,\n",
    "    'bmi': 22,\n",
    "    'oxygen': 98,\n",
    "    'mental_health': 80,\n",
    "}\n",
    "\n",
    "input_actions = ['a0', 'a1']  # Two standard input actions\n",
    "output_actions = 'a9'       # Standard output action\n",
    "actions, pathways, threshold_matrix, transition_matrix = initialize_simulation(NUM_PATIENTS, NUM_PATHWAYS, NUM_ACTIONS, BASE_CAPACITY, IDEAL_CLINICAL_VALUES, PROBABILITY_OF_DISEASE, input_actions, output_actions)\n",
    "patients = initialize_patients(NUM_PATIENTS)\n",
    "\n",
    "\n",
    "system_cost = {}\n",
    "sum_cost = 0\n",
    "activity_log = []\n",
    "q_table = defaultdict(lambda: defaultdict(float))\n",
    "for step in range(NUM_STEPS):\n",
    "    step_cost = 0\n",
    "    q_state_action_pairs = []\n",
    "    q_threshold_rewards = []\n",
    "    rewards = []\n",
    "    for act in actions.values():\n",
    "        act.update_capacity(step)\n",
    "    for p in patients:\n",
    "        for pw in pathways:\n",
    "            if not p.diseases[pw.name]:\n",
    "                Patient.progress_diseases(p, pw.name)\n",
    "                continue\n",
    "            Patient.clinical_decay(p) # Patient gets a little worse per pathway they are on\n",
    "            next_a, q_state = pw.next_action(p, q_table, epsilon)\n",
    "            q_state_action_pairs.append((q_state, next_a))\n",
    "            if next_a == output_actions:\n",
    "                Action.handle_output_action(p, pw, next_a)\n",
    "            action_cost = actions[next_a].cost if next_a in actions else 0\n",
    "            reward = - 0.25 * action_cost\n",
    "            rewards.append(reward)\n",
    "            q_threshold_rewards.append((pw.name, next_a, reward))\n",
    "            for (q_state, next_a), reward in zip(q_state_action_pairs, rewards):\n",
    "                q_table[q_state][next_a] += alpha * (reward + gamma * max(q_table[q_state].values()) - q_table[q_state][next_a])\n",
    "    for act in actions.values():\n",
    "        in_progress, cost = act.execute()\n",
    "        step_cost += cost\n",
    "    sum_cost += step_cost\n",
    "    system_cost[step] = sum_cost\n",
    "      \n"
   ]
  },
  {
   "cell_type": "markdown",
   "id": "f81b66e9",
   "metadata": {},
   "source": [
    "# Visualise the System Created:\n",
    "- Patients\n",
    "- Action Effects\n",
    "- Pathways (tabular and graphical)\n",
    "- Thresholds for the pathways"
   ]
  },
  {
   "cell_type": "code",
   "execution_count": 22,
   "id": "418b071c",
   "metadata": {},
   "outputs": [
    {
     "name": "stdout",
     "output_type": "stream",
     "text": [
      "Patient 1:\n",
      "  ID: 0\n",
      "  Age: 76\n",
      "  Age Group: elderly\n",
      "  Sex: F\n",
      "  Diseases: {'P0': True, 'P1': False, 'P2': False}\n",
      "  Comorbidities: 2\n",
      "  Clinical Variables: {'bp': 105.69324789361185, 'glucose': 76.91043108072739, 'bmi': 27.66343432883249, 'oxygen': 128.4348645934058, 'mental_health': 112.89505887266446}\n",
      "  Clinical Outcome: 96.3896788205635\n",
      "  Sickness: 0\n",
      "\n",
      "Patient 2:\n",
      "  ID: 1\n",
      "  Age: 26\n",
      "  Age Group: young\n",
      "  Sex: F\n",
      "  Diseases: {'P0': True, 'P1': True, 'P2': True}\n",
      "  Comorbidities: 3\n",
      "  Clinical Variables: {'bp': 54.31517243000644, 'glucose': 103.17385631832445, 'bmi': 22.07684312861993, 'oxygen': 135.40166321181053, 'mental_health': 104.57175003442977}\n",
      "  Clinical Outcome: 140.90894026317824\n",
      "  Sickness: 1\n",
      "\n"
     ]
    }
   ],
   "source": [
    "# Display the first few patients\n",
    "for i, patient in enumerate(patients[:3]):\n",
    "    print(f\"Patient {i+1}:\")\n",
    "    print(f\"  ID: {patient.pid}\")\n",
    "    print(f\"  Age: {patient.age}\")\n",
    "    print(f\"  Age Group: {patient.age_group}\")\n",
    "    print(f\"  Sex: {patient.sex}\")\n",
    "    print(f\"  Diseases: {patient.diseases}\")\n",
    "    print(f\"  Comorbidities: {patient.comorbidities}\")\n",
    "    print(f\"  Clinical Variables: {patient.clinical}\")\n",
    "    print(f\"  Clinical Outcome: {patient.outcomes['clinical_penalty']}\")\n",
    "    print(f\"  Sickness: {patient.sickness}\")\n",
    "    print()"
   ]
  },
  {
   "cell_type": "code",
   "execution_count": 23,
   "id": "f035bf22",
   "metadata": {},
   "outputs": [
    {
     "name": "stdout",
     "output_type": "stream",
     "text": [
      "Action Name: a0\n",
      "  Base_Capacity: 2\n",
      "  Capacity: 1\n",
      "  Effect: {'bp': 2.0882026172983834, 'glucose': 0, 'bmi': 0, 'oxygen': 0, 'mental_health': 0}\n",
      "  Cost: 87\n",
      "  Duration: 2\n",
      "\n",
      "Action Name: a1\n",
      "  Base_Capacity: 2\n",
      "  Capacity: 1\n",
      "  Effect: {'bp': 0, 'glucose': 2.020007860418361, 'bmi': 0, 'oxygen': 0, 'mental_health': 0}\n",
      "  Cost: 87\n",
      "  Duration: 2\n",
      "\n",
      "Action Name: a2\n",
      "  Base_Capacity: 2\n",
      "  Capacity: 2\n",
      "  Effect: {'bp': 0, 'glucose': 0, 'bmi': 2.0933778995074985, 'oxygen': 0, 'mental_health': 0}\n",
      "  Cost: 56\n",
      "  Duration: 2\n",
      "\n",
      "Action Name: a3\n",
      "  Base_Capacity: 2\n",
      "  Capacity: 2\n",
      "  Effect: {'bp': 0, 'glucose': 0, 'bmi': 0, 'oxygen': 1.9511361060061794, 'mental_health': 0}\n",
      "  Cost: 90\n",
      "  Duration: 1\n",
      "\n",
      "Action Name: a4\n",
      "  Base_Capacity: 2\n",
      "  Capacity: 1\n",
      "  Effect: {'bp': 0, 'glucose': 0, 'bmi': 0, 'oxygen': 0, 'mental_health': 1.994839057410322}\n",
      "  Cost: 59\n",
      "  Duration: 2\n",
      "\n",
      "Action Name: a5\n",
      "  Base_Capacity: 2\n",
      "  Capacity: 2\n",
      "  Effect: {'bp': 2.0205299250969184, 'glucose': 0, 'bmi': 0, 'oxygen': 0, 'mental_health': 0}\n",
      "  Cost: 66\n",
      "  Duration: 1\n",
      "\n",
      "Action Name: a6\n",
      "  Base_Capacity: 2\n",
      "  Capacity: 2\n",
      "  Effect: {'bp': 0, 'glucose': 2.0562657051887525, 'bmi': 0, 'oxygen': 0, 'mental_health': 0}\n",
      "  Cost: 92\n",
      "  Duration: 2\n",
      "\n",
      "Action Name: a7\n",
      "  Base_Capacity: 2\n",
      "  Capacity: 1\n",
      "  Effect: {'bp': 0, 'glucose': 0, 'bmi': 1.9820502224215313, 'oxygen': 0, 'mental_health': 0}\n",
      "  Cost: 40\n",
      "  Duration: 2\n",
      "\n",
      "Action Name: a8\n",
      "  Base_Capacity: 2\n",
      "  Capacity: 1\n",
      "  Effect: {'bp': 0, 'glucose': 0, 'bmi': 0, 'oxygen': 2.021418668482432, 'mental_health': 0}\n",
      "  Cost: 99\n",
      "  Duration: 2\n",
      "\n",
      "Action Name: a9\n",
      "  Base_Capacity: 2\n",
      "  Capacity: 1\n",
      "  Effect: {'bp': 0, 'glucose': 0, 'bmi': 0, 'oxygen': 0, 'mental_health': 1.9938268425442818}\n",
      "  Cost: 84\n",
      "  Duration: 1\n",
      "\n"
     ]
    }
   ],
   "source": [
    "# Display the first two actions\n",
    "for action_name, action_obj in list(actions.items())[:10]:\n",
    "    print(f\"Action Name: {action_name}\")\n",
    "    print(f\"  Base_Capacity: {action_obj.base_capacity}\")\n",
    "    print(f\"  Capacity: {action_obj.capacity}\")\n",
    "    print(f\"  Effect: {action_obj.effect}\")\n",
    "    print(f\"  Cost: {action_obj.cost}\")\n",
    "    print(f\"  Duration: {action_obj.duration}\")\n",
    "    print()"
   ]
  },
  {
   "cell_type": "markdown",
   "id": "3f9b2433",
   "metadata": {},
   "source": [
    "# Step 5: Visualise the Outputs"
   ]
  },
  {
   "cell_type": "code",
   "execution_count": 24,
   "id": "24925822",
   "metadata": {},
   "outputs": [
    {
     "data": {
      "image/png": "[encoded data removed]",
      "text/plain": [
       "<Figure size 1800x600 with 2 Axes>"
      ]
     },
     "metadata": {},
     "output_type": "display_data"
    }
   ],
   "source": [
    "heatmap_data_first = np.array([act.schedule for act in actions.values()])\n",
    "heatmap_data_last = np.array([act.schedule for act in actions.values()])\n",
    "\n",
    "fig, axes = plt.subplots(1, 1, figsize=(18, 6), sharey=True)\n",
    "\n",
    "# First major step\n",
    "sns.heatmap(\n",
    "    heatmap_data_first,\n",
    "    cmap=\"viridis\",\n",
    "    annot=False,\n",
    "    cbar=True,\n",
    "    ax=axes\n",
    ")\n",
    "axes.set_title(f\"Action Schedule Usage Over Time\")\n",
    "axes.set_xlabel(\"Time\")\n",
    "axes.set_ylabel(\"Action\")\n",
    "axes.set_yticks(np.arange(len(actions)) + 0.5)\n",
    "axes.set_yticklabels(list(actions.keys()), rotation=0)\n",
    "\n",
    "plt.tight_layout()\n",
    "plt.show()"
   ]
  },
  {
   "cell_type": "code",
   "execution_count": 25,
   "id": "195954ff",
   "metadata": {},
   "outputs": [
    {
     "name": "stdout",
     "output_type": "stream",
     "text": [
      "Total system cost: 108578\n",
      "Average queue penalty: 998273.0\n",
      "Average clinical penalty: 118.64930954187088\n",
      "Average wait time: 1.9166666666666667\n",
      "Average clinical variables: {'bp': -39.99578983819085, 'glucose': 0.042143699525922784, 'bmi': 2.870138728726211, 'oxygen': 33.91826390260816, 'mental_health': 28.733404453547116}\n"
     ]
    }
   ],
   "source": [
    "print(\"Total system cost:\", sum(system_cost.values()))\n",
    "print(\"Average queue penalty:\", np.mean([p.outcomes['queue_penalty'] for p in patients]))\n",
    "print(\"Average clinical penalty:\", np.mean([p.outcomes['clinical_penalty'] for p in patients]))\n",
    "print(\"Average wait time:\", np.mean([p.queue_time / 30 for p in patients]))\n",
    "print(\"Average clinical variables:\", {k: np.mean([p.clinical[k] - IDEAL_CLINICAL_VALUES[k] for p in patients]) for k in IDEAL_CLINICAL_VALUES.keys()})"
   ]
  },
  {
   "cell_type": "code",
   "execution_count": 26,
   "id": "8401ee75",
   "metadata": {},
   "outputs": [
    {
     "data": {
      "text/html": [
       "<div>\n",
       "<style scoped>\n",
       "    .dataframe tbody tr th:only-of-type {\n",
       "        vertical-align: middle;\n",
       "    }\n",
       "\n",
       "    .dataframe tbody tr th {\n",
       "        vertical-align: top;\n",
       "    }\n",
       "\n",
       "    .dataframe thead th {\n",
       "        text-align: right;\n",
       "    }\n",
       "</style>\n",
       "<table border=\"1\" class=\"dataframe\">\n",
       "  <thead>\n",
       "    <tr style=\"text-align: right;\">\n",
       "      <th></th>\n",
       "      <th>pathway_code</th>\n",
       "      <th>pathway_flag</th>\n",
       "      <th>patient_id</th>\n",
       "      <th>simulation_time</th>\n",
       "      <th>previous_action</th>\n",
       "      <th>action_name</th>\n",
       "      <th>next_action</th>\n",
       "    </tr>\n",
       "  </thead>\n",
       "  <tbody>\n",
       "    <tr>\n",
       "      <th>4</th>\n",
       "      <td>P1</td>\n",
       "      <td>True</td>\n",
       "      <td>1</td>\n",
       "      <td>2</td>\n",
       "      <td>None</td>\n",
       "      <td>a1</td>\n",
       "      <td>a8</td>\n",
       "    </tr>\n",
       "    <tr>\n",
       "      <th>8</th>\n",
       "      <td>P1</td>\n",
       "      <td>True</td>\n",
       "      <td>1</td>\n",
       "      <td>3</td>\n",
       "      <td>a1</td>\n",
       "      <td>a8</td>\n",
       "      <td>a9</td>\n",
       "    </tr>\n",
       "    <tr>\n",
       "      <th>24</th>\n",
       "      <td>P1</td>\n",
       "      <td>True</td>\n",
       "      <td>1</td>\n",
       "      <td>8</td>\n",
       "      <td>a9</td>\n",
       "      <td>a0</td>\n",
       "      <td>a7</td>\n",
       "    </tr>\n",
       "    <tr>\n",
       "      <th>28</th>\n",
       "      <td>P1</td>\n",
       "      <td>True</td>\n",
       "      <td>1</td>\n",
       "      <td>9</td>\n",
       "      <td>a0</td>\n",
       "      <td>a7</td>\n",
       "      <td>a3</td>\n",
       "    </tr>\n",
       "    <tr>\n",
       "      <th>32</th>\n",
       "      <td>P1</td>\n",
       "      <td>True</td>\n",
       "      <td>1</td>\n",
       "      <td>10</td>\n",
       "      <td>a7</td>\n",
       "      <td>a3</td>\n",
       "      <td>a6</td>\n",
       "    </tr>\n",
       "    <tr>\n",
       "      <th>36</th>\n",
       "      <td>P1</td>\n",
       "      <td>True</td>\n",
       "      <td>1</td>\n",
       "      <td>11</td>\n",
       "      <td>a3</td>\n",
       "      <td>a6</td>\n",
       "      <td>a2</td>\n",
       "    </tr>\n",
       "    <tr>\n",
       "      <th>40</th>\n",
       "      <td>P1</td>\n",
       "      <td>True</td>\n",
       "      <td>1</td>\n",
       "      <td>12</td>\n",
       "      <td>a6</td>\n",
       "      <td>a2</td>\n",
       "      <td>a6</td>\n",
       "    </tr>\n",
       "    <tr>\n",
       "      <th>45</th>\n",
       "      <td>P1</td>\n",
       "      <td>True</td>\n",
       "      <td>1</td>\n",
       "      <td>13</td>\n",
       "      <td>a2</td>\n",
       "      <td>a6</td>\n",
       "      <td>a7</td>\n",
       "    </tr>\n",
       "    <tr>\n",
       "      <th>50</th>\n",
       "      <td>P1</td>\n",
       "      <td>True</td>\n",
       "      <td>1</td>\n",
       "      <td>14</td>\n",
       "      <td>a6</td>\n",
       "      <td>a7</td>\n",
       "      <td>a9</td>\n",
       "    </tr>\n",
       "    <tr>\n",
       "      <th>58</th>\n",
       "      <td>P1</td>\n",
       "      <td>True</td>\n",
       "      <td>1</td>\n",
       "      <td>16</td>\n",
       "      <td>a9</td>\n",
       "      <td>a1</td>\n",
       "      <td>a5</td>\n",
       "    </tr>\n",
       "    <tr>\n",
       "      <th>62</th>\n",
       "      <td>P1</td>\n",
       "      <td>True</td>\n",
       "      <td>1</td>\n",
       "      <td>17</td>\n",
       "      <td>a1</td>\n",
       "      <td>a5</td>\n",
       "      <td>a6</td>\n",
       "    </tr>\n",
       "    <tr>\n",
       "      <th>66</th>\n",
       "      <td>P1</td>\n",
       "      <td>True</td>\n",
       "      <td>1</td>\n",
       "      <td>18</td>\n",
       "      <td>a5</td>\n",
       "      <td>a6</td>\n",
       "      <td>a8</td>\n",
       "    </tr>\n",
       "    <tr>\n",
       "      <th>70</th>\n",
       "      <td>P1</td>\n",
       "      <td>True</td>\n",
       "      <td>1</td>\n",
       "      <td>19</td>\n",
       "      <td>a6</td>\n",
       "      <td>a8</td>\n",
       "      <td>a5</td>\n",
       "    </tr>\n",
       "    <tr>\n",
       "      <th>74</th>\n",
       "      <td>P1</td>\n",
       "      <td>True</td>\n",
       "      <td>1</td>\n",
       "      <td>20</td>\n",
       "      <td>a8</td>\n",
       "      <td>a5</td>\n",
       "      <td>a6</td>\n",
       "    </tr>\n",
       "    <tr>\n",
       "      <th>77</th>\n",
       "      <td>P1</td>\n",
       "      <td>True</td>\n",
       "      <td>1</td>\n",
       "      <td>21</td>\n",
       "      <td>a5</td>\n",
       "      <td>a6</td>\n",
       "      <td>a3</td>\n",
       "    </tr>\n",
       "    <tr>\n",
       "      <th>79</th>\n",
       "      <td>P1</td>\n",
       "      <td>True</td>\n",
       "      <td>1</td>\n",
       "      <td>22</td>\n",
       "      <td>a6</td>\n",
       "      <td>a3</td>\n",
       "      <td>a4</td>\n",
       "    </tr>\n",
       "    <tr>\n",
       "      <th>81</th>\n",
       "      <td>P1</td>\n",
       "      <td>True</td>\n",
       "      <td>1</td>\n",
       "      <td>23</td>\n",
       "      <td>a3</td>\n",
       "      <td>a4</td>\n",
       "      <td>a6</td>\n",
       "    </tr>\n",
       "    <tr>\n",
       "      <th>83</th>\n",
       "      <td>P1</td>\n",
       "      <td>True</td>\n",
       "      <td>1</td>\n",
       "      <td>24</td>\n",
       "      <td>a4</td>\n",
       "      <td>a6</td>\n",
       "      <td>a2</td>\n",
       "    </tr>\n",
       "    <tr>\n",
       "      <th>86</th>\n",
       "      <td>P1</td>\n",
       "      <td>True</td>\n",
       "      <td>1</td>\n",
       "      <td>25</td>\n",
       "      <td>a6</td>\n",
       "      <td>a2</td>\n",
       "      <td>a4</td>\n",
       "    </tr>\n",
       "    <tr>\n",
       "      <th>90</th>\n",
       "      <td>P1</td>\n",
       "      <td>True</td>\n",
       "      <td>1</td>\n",
       "      <td>26</td>\n",
       "      <td>a2</td>\n",
       "      <td>a4</td>\n",
       "      <td>a7</td>\n",
       "    </tr>\n",
       "  </tbody>\n",
       "</table>\n",
       "</div>"
      ],
      "text/plain": [
       "   pathway_code  pathway_flag  patient_id  simulation_time previous_action  \\\n",
       "4            P1          True           1                2            None   \n",
       "8            P1          True           1                3              a1   \n",
       "24           P1          True           1                8              a9   \n",
       "28           P1          True           1                9              a0   \n",
       "32           P1          True           1               10              a7   \n",
       "36           P1          True           1               11              a3   \n",
       "40           P1          True           1               12              a6   \n",
       "45           P1          True           1               13              a2   \n",
       "50           P1          True           1               14              a6   \n",
       "58           P1          True           1               16              a9   \n",
       "62           P1          True           1               17              a1   \n",
       "66           P1          True           1               18              a5   \n",
       "70           P1          True           1               19              a6   \n",
       "74           P1          True           1               20              a8   \n",
       "77           P1          True           1               21              a5   \n",
       "79           P1          True           1               22              a6   \n",
       "81           P1          True           1               23              a3   \n",
       "83           P1          True           1               24              a4   \n",
       "86           P1          True           1               25              a6   \n",
       "90           P1          True           1               26              a2   \n",
       "\n",
       "   action_name next_action  \n",
       "4           a1          a8  \n",
       "8           a8          a9  \n",
       "24          a0          a7  \n",
       "28          a7          a3  \n",
       "32          a3          a6  \n",
       "36          a6          a2  \n",
       "40          a2          a6  \n",
       "45          a6          a7  \n",
       "50          a7          a9  \n",
       "58          a1          a5  \n",
       "62          a5          a6  \n",
       "66          a6          a8  \n",
       "70          a8          a5  \n",
       "74          a5          a6  \n",
       "77          a6          a3  \n",
       "79          a3          a4  \n",
       "81          a4          a6  \n",
       "83          a6          a2  \n",
       "86          a2          a4  \n",
       "90          a4          a7  "
      ]
     },
     "metadata": {},
     "output_type": "display_data"
    },
    {
     "data": {
      "image/png": "[encoded data removed]",
      "text/plain": [
       "<Figure size 1200x400 with 1 Axes>"
      ]
     },
     "metadata": {},
     "output_type": "display_data"
    },
    {
     "data": {
      "application/vnd.plotly.v1+json": {
       "config": {
        "plotlyServerURL": "https://plot.ly"
       },
       "data": [
        {
         "link": {
          "source": {
           "bdata": "AQIAAwQFBgUDAQcFAgcFBAgFBggDBwU=",
           "dtype": "i1"
          },
          "target": {
           "bdata": "AgkDBAUGBQMJBwUCBwUECAUGCAMHBQM=",
           "dtype": "i1"
          },
          "value": [
           1,
           1,
           1,
           1,
           1,
           1,
           1,
           1,
           1,
           1,
           1,
           1,
           1,
           1,
           1,
           1,
           1,
           1,
           1,
           1,
           1,
           1,
           1
          ]
         },
         "node": {
          "label": [
           "a0",
           "a1",
           "a8",
           "a7",
           "a3",
           "a6",
           "a2",
           "a5",
           "a4",
           "a9"
          ],
          "line": {
           "color": "black",
           "width": 0.5
          },
          "pad": 15,
          "thickness": 20,
          "x": [
           0,
           0.1111111111111111,
           0.2222222222222222,
           0.3333333333333333,
           0.4444444444444444,
           0.5555555555555556,
           0.6666666666666666,
           0.7777777777777778,
           0.8888888888888888,
           1,
           0,
           0,
           0.5,
           0.5,
           0.5,
           0.5,
           0.5,
           0.5,
           0.5,
           1
          ],
          "y": [
           0,
           0.1111111111111111,
           0.2222222222222222,
           0.3333333333333333,
           0.4444444444444444,
           0.5555555555555556,
           0.6666666666666666,
           0.7777777777777778,
           0.8888888888888888,
           1
          ]
         },
         "type": "sankey"
        }
       ],
       "layout": {
        "font": {
         "size": 10
        },
        "template": {
         "data": {
          "bar": [
           {
            "error_x": {
             "color": "#2a3f5f"
            },
            "error_y": {
             "color": "#2a3f5f"
            },
            "marker": {
             "line": {
              "color": "#E5ECF6",
              "width": 0.5
             },
             "pattern": {
              "fillmode": "overlay",
              "size": 10,
              "solidity": 0.2
             }
            },
            "type": "bar"
           }
          ],
          "barpolar": [
           {
            "marker": {
             "line": {
              "color": "#E5ECF6",
              "width": 0.5
             },
             "pattern": {
              "fillmode": "overlay",
              "size": 10,
              "solidity": 0.2
             }
            },
            "type": "barpolar"
           }
          ],
          "carpet": [
           {
            "aaxis": {
             "endlinecolor": "#2a3f5f",
             "gridcolor": "white",
             "linecolor": "white",
             "minorgridcolor": "white",
             "startlinecolor": "#2a3f5f"
            },
            "baxis": {
             "endlinecolor": "#2a3f5f",
             "gridcolor": "white",
             "linecolor": "white",
             "minorgridcolor": "white",
             "startlinecolor": "#2a3f5f"
            },
            "type": "carpet"
           }
          ],
          "choropleth": [
           {
            "colorbar": {
             "outlinewidth": 0,
             "ticks": ""
            },
            "type": "choropleth"
           }
          ],
          "contour": [
           {
            "colorbar": {
             "outlinewidth": 0,
             "ticks": ""
            },
            "colorscale": [
             [
              0,
              "#0d0887"
             ],
             [
              0.1111111111111111,
              "#46039f"
             ],
             [
              0.2222222222222222,
              "#7201a8"
             ],
             [
              0.3333333333333333,
              "#9c179e"
             ],
             [
              0.4444444444444444,
              "#bd3786"
             ],
             [
              0.5555555555555556,
              "#d8576b"
             ],
             [
              0.6666666666666666,
              "#ed7953"
             ],
             [
              0.7777777777777778,
              "#fb9f3a"
             ],
             [
              0.8888888888888888,
              "#fdca26"
             ],
             [
              1,
              "#f0f921"
             ]
            ],
            "type": "contour"
           }
          ],
          "contourcarpet": [
           {
            "colorbar": {
             "outlinewidth": 0,
             "ticks": ""
            },
            "type": "contourcarpet"
           }
          ],
          "heatmap": [
           {
            "colorbar": {
             "outlinewidth": 0,
             "ticks": ""
            },
            "colorscale": [
             [
              0,
              "#0d0887"
             ],
             [
              0.1111111111111111,
              "#46039f"
             ],
             [
              0.2222222222222222,
              "#7201a8"
             ],
             [
              0.3333333333333333,
              "#9c179e"
             ],
             [
              0.4444444444444444,
              "#bd3786"
             ],
             [
              0.5555555555555556,
              "#d8576b"
             ],
             [
              0.6666666666666666,
              "#ed7953"
             ],
             [
              0.7777777777777778,
              "#fb9f3a"
             ],
             [
              0.8888888888888888,
              "#fdca26"
             ],
             [
              1,
              "#f0f921"
             ]
            ],
            "type": "heatmap"
           }
          ],
          "histogram": [
           {
            "marker": {
             "pattern": {
              "fillmode": "overlay",
              "size": 10,
              "solidity": 0.2
             }
            },
            "type": "histogram"
           }
          ],
          "histogram2d": [
           {
            "colorbar": {
             "outlinewidth": 0,
             "ticks": ""
            },
            "colorscale": [
             [
              0,
              "#0d0887"
             ],
             [
              0.1111111111111111,
              "#46039f"
             ],
             [
              0.2222222222222222,
              "#7201a8"
             ],
             [
              0.3333333333333333,
              "#9c179e"
             ],
             [
              0.4444444444444444,
              "#bd3786"
             ],
             [
              0.5555555555555556,
              "#d8576b"
             ],
             [
              0.6666666666666666,
              "#ed7953"
             ],
             [
              0.7777777777777778,
              "#fb9f3a"
             ],
             [
              0.8888888888888888,
              "#fdca26"
             ],
             [
              1,
              "#f0f921"
             ]
            ],
            "type": "histogram2d"
           }
          ],
          "histogram2dcontour": [
           {
            "colorbar": {
             "outlinewidth": 0,
             "ticks": ""
            },
            "colorscale": [
             [
              0,
              "#0d0887"
             ],
             [
              0.1111111111111111,
              "#46039f"
             ],
             [
              0.2222222222222222,
              "#7201a8"
             ],
             [
              0.3333333333333333,
              "#9c179e"
             ],
             [
              0.4444444444444444,
              "#bd3786"
             ],
             [
              0.5555555555555556,
              "#d8576b"
             ],
             [
              0.6666666666666666,
              "#ed7953"
             ],
             [
              0.7777777777777778,
              "#fb9f3a"
             ],
             [
              0.8888888888888888,
              "#fdca26"
             ],
             [
              1,
              "#f0f921"
             ]
            ],
            "type": "histogram2dcontour"
           }
          ],
          "mesh3d": [
           {
            "colorbar": {
             "outlinewidth": 0,
             "ticks": ""
            },
            "type": "mesh3d"
           }
          ],
          "parcoords": [
           {
            "line": {
             "colorbar": {
              "outlinewidth": 0,
              "ticks": ""
             }
            },
            "type": "parcoords"
           }
          ],
          "pie": [
           {
            "automargin": true,
            "type": "pie"
           }
          ],
          "scatter": [
           {
            "fillpattern": {
             "fillmode": "overlay",
             "size": 10,
             "solidity": 0.2
            },
            "type": "scatter"
           }
          ],
          "scatter3d": [
           {
            "line": {
             "colorbar": {
              "outlinewidth": 0,
              "ticks": ""
             }
            },
            "marker": {
             "colorbar": {
              "outlinewidth": 0,
              "ticks": ""
             }
            },
            "type": "scatter3d"
           }
          ],
          "scattercarpet": [
           {
            "marker": {
             "colorbar": {
              "outlinewidth": 0,
              "ticks": ""
             }
            },
            "type": "scattercarpet"
           }
          ],
          "scattergeo": [
           {
            "marker": {
             "colorbar": {
              "outlinewidth": 0,
              "ticks": ""
             }
            },
            "type": "scattergeo"
           }
          ],
          "scattergl": [
           {
            "marker": {
             "colorbar": {
              "outlinewidth": 0,
              "ticks": ""
             }
            },
            "type": "scattergl"
           }
          ],
          "scattermap": [
           {
            "marker": {
             "colorbar": {
              "outlinewidth": 0,
              "ticks": ""
             }
            },
            "type": "scattermap"
           }
          ],
          "scattermapbox": [
           {
            "marker": {
             "colorbar": {
              "outlinewidth": 0,
              "ticks": ""
             }
            },
            "type": "scattermapbox"
           }
          ],
          "scatterpolar": [
           {
            "marker": {
             "colorbar": {
              "outlinewidth": 0,
              "ticks": ""
             }
            },
            "type": "scatterpolar"
           }
          ],
          "scatterpolargl": [
           {
            "marker": {
             "colorbar": {
              "outlinewidth": 0,
              "ticks": ""
             }
            },
            "type": "scatterpolargl"
           }
          ],
          "scatterternary": [
           {
            "marker": {
             "colorbar": {
              "outlinewidth": 0,
              "ticks": ""
             }
            },
            "type": "scatterternary"
           }
          ],
          "surface": [
           {
            "colorbar": {
             "outlinewidth": 0,
             "ticks": ""
            },
            "colorscale": [
             [
              0,
              "#0d0887"
             ],
             [
              0.1111111111111111,
              "#46039f"
             ],
             [
              0.2222222222222222,
              "#7201a8"
             ],
             [
              0.3333333333333333,
              "#9c179e"
             ],
             [
              0.4444444444444444,
              "#bd3786"
             ],
             [
              0.5555555555555556,
              "#d8576b"
             ],
             [
              0.6666666666666666,
              "#ed7953"
             ],
             [
              0.7777777777777778,
              "#fb9f3a"
             ],
             [
              0.8888888888888888,
              "#fdca26"
             ],
             [
              1,
              "#f0f921"
             ]
            ],
            "type": "surface"
           }
          ],
          "table": [
           {
            "cells": {
             "fill": {
              "color": "#EBF0F8"
             },
             "line": {
              "color": "white"
             }
            },
            "header": {
             "fill": {
              "color": "#C8D4E3"
             },
             "line": {
              "color": "white"
             }
            },
            "type": "table"
           }
          ]
         },
         "layout": {
          "annotationdefaults": {
           "arrowcolor": "#2a3f5f",
           "arrowhead": 0,
           "arrowwidth": 1
          },
          "autotypenumbers": "strict",
          "coloraxis": {
           "colorbar": {
            "outlinewidth": 0,
            "ticks": ""
           }
          },
          "colorscale": {
           "diverging": [
            [
             0,
             "#8e0152"
            ],
            [
             0.1,
             "#c51b7d"
            ],
            [
             0.2,
             "#de77ae"
            ],
            [
             0.3,
             "#f1b6da"
            ],
            [
             0.4,
             "#fde0ef"
            ],
            [
             0.5,
             "#f7f7f7"
            ],
            [
             0.6,
             "#e6f5d0"
            ],
            [
             0.7,
             "#b8e186"
            ],
            [
             0.8,
             "#7fbc41"
            ],
            [
             0.9,
             "#4d9221"
            ],
            [
             1,
             "#276419"
            ]
           ],
           "sequential": [
            [
             0,
             "#0d0887"
            ],
            [
             0.1111111111111111,
             "#46039f"
            ],
            [
             0.2222222222222222,
             "#7201a8"
            ],
            [
             0.3333333333333333,
             "#9c179e"
            ],
            [
             0.4444444444444444,
             "#bd3786"
            ],
            [
             0.5555555555555556,
             "#d8576b"
            ],
            [
             0.6666666666666666,
             "#ed7953"
            ],
            [
             0.7777777777777778,
             "#fb9f3a"
            ],
            [
             0.8888888888888888,
             "#fdca26"
            ],
            [
             1,
             "#f0f921"
            ]
           ],
           "sequentialminus": [
            [
             0,
             "#0d0887"
            ],
            [
             0.1111111111111111,
             "#46039f"
            ],
            [
             0.2222222222222222,
             "#7201a8"
            ],
            [
             0.3333333333333333,
             "#9c179e"
            ],
            [
             0.4444444444444444,
             "#bd3786"
            ],
            [
             0.5555555555555556,
             "#d8576b"
            ],
            [
             0.6666666666666666,
             "#ed7953"
            ],
            [
             0.7777777777777778,
             "#fb9f3a"
            ],
            [
             0.8888888888888888,
             "#fdca26"
            ],
            [
             1,
             "#f0f921"
            ]
           ]
          },
          "colorway": [
           "#636efa",
           "#EF553B",
           "#00cc96",
           "#ab63fa",
           "#FFA15A",
           "#19d3f3",
           "#FF6692",
           "#B6E880",
           "#FF97FF",
           "#FECB52"
          ],
          "font": {
           "color": "#2a3f5f"
          },
          "geo": {
           "bgcolor": "white",
           "lakecolor": "white",
           "landcolor": "#E5ECF6",
           "showlakes": true,
           "showland": true,
           "subunitcolor": "white"
          },
          "hoverlabel": {
           "align": "left"
          },
          "hovermode": "closest",
          "mapbox": {
           "style": "light"
          },
          "paper_bgcolor": "white",
          "plot_bgcolor": "#E5ECF6",
          "polar": {
           "angularaxis": {
            "gridcolor": "white",
            "linecolor": "white",
            "ticks": ""
           },
           "bgcolor": "#E5ECF6",
           "radialaxis": {
            "gridcolor": "white",
            "linecolor": "white",
            "ticks": ""
           }
          },
          "scene": {
           "xaxis": {
            "backgroundcolor": "#E5ECF6",
            "gridcolor": "white",
            "gridwidth": 2,
            "linecolor": "white",
            "showbackground": true,
            "ticks": "",
            "zerolinecolor": "white"
           },
           "yaxis": {
            "backgroundcolor": "#E5ECF6",
            "gridcolor": "white",
            "gridwidth": 2,
            "linecolor": "white",
            "showbackground": true,
            "ticks": "",
            "zerolinecolor": "white"
           },
           "zaxis": {
            "backgroundcolor": "#E5ECF6",
            "gridcolor": "white",
            "gridwidth": 2,
            "linecolor": "white",
            "showbackground": true,
            "ticks": "",
            "zerolinecolor": "white"
           }
          },
          "shapedefaults": {
           "line": {
            "color": "#2a3f5f"
           }
          },
          "ternary": {
           "aaxis": {
            "gridcolor": "white",
            "linecolor": "white",
            "ticks": ""
           },
           "baxis": {
            "gridcolor": "white",
            "linecolor": "white",
            "ticks": ""
           },
           "bgcolor": "#E5ECF6",
           "caxis": {
            "gridcolor": "white",
            "linecolor": "white",
            "ticks": ""
           }
          },
          "title": {
           "x": 0.05
          },
          "xaxis": {
           "automargin": true,
           "gridcolor": "white",
           "linecolor": "white",
           "ticks": "",
           "title": {
            "standoff": 15
           },
           "zerolinecolor": "white",
           "zerolinewidth": 2
          },
          "yaxis": {
           "automargin": true,
           "gridcolor": "white",
           "linecolor": "white",
           "ticks": "",
           "title": {
            "standoff": 15
           },
           "zerolinecolor": "white",
           "zerolinewidth": 2
          }
         }
        },
        "title": {
         "text": "Patient Action Flow (Sankey Diagram)"
        }
       }
      }
     },
     "metadata": {},
     "output_type": "display_data"
    }
   ],
   "source": [
    "# Display activity_log as a DataFrame (tabular form)\n",
    "activity_df = pd.DataFrame(activity_log)\n",
    "# filter to one example patient for clarity\n",
    "example_patient_df = activity_df[activity_df['patient_id'] == 1]\n",
    "example_patient_pathway_df = example_patient_df[example_patient_df['pathway_code'] == 'P1']\n",
    "#example_patient_df = activity_df\n",
    "\n",
    "display(example_patient_pathway_df.head(20))  \n",
    "\n",
    "timesteps = sorted(example_patient_df['simulation_time'].unique())\n",
    "all_pathways = sorted(example_patient_df['pathway_code'].unique())\n",
    "\n",
    "# Build a DataFrame: index=timesteps, columns=pathways, value=1 if patient is on that pathway at that time\n",
    "presence_matrix = pd.DataFrame(0, index=timesteps, columns=all_pathways)\n",
    "for t in timesteps:\n",
    "    active_pathways = example_patient_df[example_patient_df['simulation_time'] == t]['pathway_code'].unique()\n",
    "    for pw in active_pathways:\n",
    "        presence_matrix.loc[t, pw] = 1\n",
    "\n",
    "plt.figure(figsize=(12, 4))\n",
    "ax = sns.heatmap(presence_matrix.T, cmap=\"Greens\", cbar=False, linewidths=0.5, linecolor='gray')\n",
    "\n",
    "# Overlay red squares where the next action is 'a9' for patient 3\n",
    "for idx, row in example_patient_df.iterrows():\n",
    "    if row['next_action'] == 'a9':\n",
    "        # simulation_time is x, pathway_code is y\n",
    "        x = row['simulation_time'] - 1  # adjust for zero-based index in heatmap\n",
    "        y = all_pathways.index(row['pathway_code'])\n",
    "        ax.add_patch(plt.Rectangle((x, y), 1, 1, fill=True, color='red', alpha=0.5, lw=0))\n",
    "\n",
    "plt.title(f\"Pathway Presence Over Time for Patient 3 (Red = next action 'a9')\")\n",
    "plt.xlabel(\"Simulation Time\")\n",
    "plt.ylabel(\"Pathway\")\n",
    "plt.yticks(ticks=np.arange(len(all_pathways)) + 0.5, labels=all_pathways, rotation=0)\n",
    "plt.show()\n",
    "\n",
    "# Prepare data for Sankey diagram\n",
    "filtered_df = example_patient_pathway_df.dropna(subset=['action_name','next_action'])\n",
    "sources = filtered_df['action_name']\n",
    "targets = filtered_df['next_action']\n",
    "labels = list(pd.unique(pd.concat([sources, targets])))\n",
    "\n",
    "# Cut the 'a9' output action from the Sankey diagram\n",
    "mask = sources != 'a9'\n",
    "filtered_sources = sources[mask]\n",
    "filtered_targets = targets[mask]\n",
    "\n",
    "values = [1] * len(filtered_df)  # Each transition counts as 1\n",
    "\n",
    "left_nodes = ['a0', 'a1']\n",
    "right_nodes = ['a9']\n",
    "middle_nodes = [l for l in labels if l not in left_nodes + right_nodes]\n",
    "ordered_labels = left_nodes + middle_nodes + right_nodes\n",
    "\n",
    "# Remap indices for sources and targets\n",
    "label_indices_ordered = {label: idx for idx, label in enumerate(ordered_labels)}\n",
    "source_indices_ordered = filtered_sources.map(label_indices_ordered)\n",
    "target_indices_ordered = filtered_targets.map(label_indices_ordered)\n",
    "\n",
    "# Set x positions: 0 for left, 1 for right, 0.5 for middle\n",
    "x_positions = [i / (len(ordered_labels) - 1) for i in range(len(ordered_labels))]\n",
    "for label in ordered_labels:\n",
    "    if label in left_nodes:\n",
    "        x_positions.append(0.0)\n",
    "    elif label in right_nodes:\n",
    "        x_positions.append(1.0)\n",
    "    else:\n",
    "        x_positions.append(0.5)\n",
    "\n",
    "# Optional: set y positions to spread nodes vertically\n",
    "y_positions = [i / (len(ordered_labels) - 1) for i in range(len(ordered_labels))]\n",
    "\n",
    "fig = go.Figure(data=[go.Sankey(\n",
    "    node=dict(\n",
    "        pad=15,\n",
    "        thickness=20,\n",
    "        line=dict(color=\"black\", width=0.5),\n",
    "        label=ordered_labels,\n",
    "        x=x_positions,\n",
    "        y=y_positions,\n",
    "    ),\n",
    "    link=dict(\n",
    "        source=source_indices_ordered,\n",
    "        target=target_indices_ordered,\n",
    "        value=values,\n",
    "    ))])\n",
    "\n",
    "fig.update_layout(title_text=\"Patient Action Flow (Sankey Diagram)\", font_size=10)\n",
    "fig.show()"
   ]
  },
  {
   "cell_type": "code",
   "execution_count": 27,
   "id": "4a2b0db1",
   "metadata": {},
   "outputs": [
    {
     "data": {
      "image/png": "[encoded data removed]",
      "text/plain": [
       "<Figure size 1800x600 with 1 Axes>"
      ]
     },
     "metadata": {},
     "output_type": "display_data"
    }
   ],
   "source": [
    "# Visualize Q-values for each state at the start and end of the simulation\n",
    "\n",
    "# Get q_table for first and last major step\n",
    "from collections import defaultdict\n",
    "\n",
    "def q_table_to_df(q_table):\n",
    "    # Flatten q_table: each row is (state..., action, value)\n",
    "    rows = []\n",
    "    for state, actions_dict in q_table.items():\n",
    "        for action, value in actions_dict.items():\n",
    "            rows.append((*state, action, value))\n",
    "    return pd.DataFrame(rows, columns=['pathway', 'current_action', 'action', 'q_value'])\n",
    "\n",
    "# Convert to DataFrame for plotting\n",
    "df_q = q_table_to_df(q_table)\n",
    "\n",
    "# Plot Q-value distributions for the last major step\n",
    "fig, axes = plt.subplots(1, 1, figsize=(18, 6), sharey=True)\n",
    "\n",
    "# Q-value distribution for the first major step\n",
    "sns.histplot(df_q[df_q['q_value']!=0]['q_value'], bins=50, kde=True, color='orange', ax=axes)\n",
    "axes.set_title(\"Distribution of Q-values (First Major Step)\")\n",
    "axes.set_xlabel(\"Q-value\")\n",
    "axes.set_ylabel(\"Frequency\")\n",
    "\n",
    "\n",
    "plt.tight_layout()\n",
    "plt.show()"
   ]
  }
 ],
 "metadata": {
  "kernelspec": {
   "display_name": ".venv",
   "language": "python",
   "name": "python3"
  },
  "language_info": {
   "codemirror_mode": {
    "name": "ipython",
    "version": 3
   },
   "file_extension": ".py",
   "mimetype": "text/x-python",
   "name": "python",
   "nbconvert_exporter": "python",
   "pygments_lexer": "ipython3",
   "version": "3.8.6"
  }
 },
 "nbformat": 4,
 "nbformat_minor": 5
}
